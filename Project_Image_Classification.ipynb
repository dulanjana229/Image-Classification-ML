{
 "cells": [
  {
   "cell_type": "code",
   "execution_count": 1,
   "id": "3ef04977",
   "metadata": {},
   "outputs": [],
   "source": [
    "import tensorflow as tf\n",
    "from tensorflow.keras.datasets import mnist\n",
    "from tensorflow.keras.utils import to_categorical"
   ]
  },
  {
   "cell_type": "code",
   "execution_count": 3,
   "id": "d40ef5db",
   "metadata": {},
   "outputs": [
    {
     "name": "stdout",
     "output_type": "stream",
     "text": [
      "Downloading data from https://storage.googleapis.com/tensorflow/tf-keras-datasets/mnist.npz\n",
      "11490434/11490434 [==============================] - 197s 17us/step\n"
     ]
    }
   ],
   "source": [
    "#load th e MNIST Datasets\n",
    "(X_train, y_train),(X_test,y_test) = mnist.load_data()\n"
   ]
  },
  {
   "cell_type": "code",
   "execution_count": 4,
   "id": "cdc84487",
   "metadata": {},
   "outputs": [],
   "source": [
    "# Precprocess the dataset\n",
    "X_train = X_train.reshape((-1,28,28,1))/255.0\n",
    "X_test = X_test.reshape((-1,28,28,1))/255.0\n",
    "y_train = to_categorical(y_train)\n",
    "y_test = to_categorical(y_test)"
   ]
  },
  {
   "cell_type": "code",
   "execution_count": 7,
   "id": "b4af99a0",
   "metadata": {},
   "outputs": [],
   "source": [
    "from tensorflow.keras.models import Sequential\n",
    "from tensorflow.keras.layers import Conv2D,MaxPooling2D, Flatten, Dense\n"
   ]
  },
  {
   "cell_type": "code",
   "execution_count": 8,
   "id": "652fdc9f",
   "metadata": {},
   "outputs": [],
   "source": [
    "# Build the CNN model\n",
    "model = Sequential([\n",
    "    Conv2D(32,(3, 3), activation = 'relu', input_shape = (28,28,1)),\n",
    "    MaxPooling2D((2,2)),\n",
    "    Conv2D(64,(3,3),activation = 'relu'),\n",
    "    MaxPooling2D((2, 2)),\n",
    "    Flatten(),\n",
    "    Dense(64, activation = 'relu'),\n",
    "    Dense(10, activation = 'softmax')\n",
    "])"
   ]
  },
  {
   "cell_type": "code",
   "execution_count": 9,
   "id": "e42c0fb9",
   "metadata": {},
   "outputs": [
    {
     "name": "stdout",
     "output_type": "stream",
     "text": [
      "Epoch 1/10\n",
      "469/469 [==============================] - 113s 230ms/step - loss: 0.2378 - accuracy: 0.9295 - val_loss: 0.0727 - val_accuracy: 0.9775\n",
      "Epoch 2/10\n",
      "469/469 [==============================] - 106s 227ms/step - loss: 0.0657 - accuracy: 0.9799 - val_loss: 0.0431 - val_accuracy: 0.9862\n",
      "Epoch 3/10\n",
      "469/469 [==============================] - 111s 237ms/step - loss: 0.0455 - accuracy: 0.9859 - val_loss: 0.0435 - val_accuracy: 0.9855\n",
      "Epoch 4/10\n",
      "469/469 [==============================] - 104s 221ms/step - loss: 0.0359 - accuracy: 0.9891 - val_loss: 0.0331 - val_accuracy: 0.9889\n",
      "Epoch 5/10\n",
      "469/469 [==============================] - 106s 226ms/step - loss: 0.0285 - accuracy: 0.9908 - val_loss: 0.0340 - val_accuracy: 0.9891\n",
      "Epoch 6/10\n",
      "469/469 [==============================] - 101s 214ms/step - loss: 0.0229 - accuracy: 0.9929 - val_loss: 0.0345 - val_accuracy: 0.9894\n",
      "Epoch 7/10\n",
      "469/469 [==============================] - 102s 218ms/step - loss: 0.0216 - accuracy: 0.9929 - val_loss: 0.0350 - val_accuracy: 0.9882\n",
      "Epoch 8/10\n",
      "469/469 [==============================] - 103s 219ms/step - loss: 0.0153 - accuracy: 0.9953 - val_loss: 0.0320 - val_accuracy: 0.9895\n",
      "Epoch 9/10\n",
      "469/469 [==============================] - 106s 225ms/step - loss: 0.0138 - accuracy: 0.9955 - val_loss: 0.0350 - val_accuracy: 0.9895\n",
      "Epoch 10/10\n",
      "469/469 [==============================] - 102s 218ms/step - loss: 0.0112 - accuracy: 0.9962 - val_loss: 0.0328 - val_accuracy: 0.9910\n"
     ]
    },
    {
     "data": {
      "text/plain": [
       "<keras.callbacks.History at 0x17825957df0>"
      ]
     },
     "execution_count": 9,
     "metadata": {},
     "output_type": "execute_result"
    }
   ],
   "source": [
    "# compile and train the model\n",
    "model.compile(optimizer='adam', loss = 'categorical_crossentropy', metrics=['accuracy'])\n",
    "model.fit(X_train,y_train, batch_size=128, epochs=10,validation_data=(X_test,y_test))\n"
   ]
  },
  {
   "cell_type": "code",
   "execution_count": 16,
   "id": "2dfda037",
   "metadata": {},
   "outputs": [
    {
     "name": "stdout",
     "output_type": "stream",
     "text": [
      "313/313 [==============================] - 10s 31ms/step - loss: 0.0328 - accuracy: 0.9910\n",
      "Test Loss: 0.0328\n",
      "Test Accuracy: 0.9910\n"
     ]
    }
   ],
   "source": [
    "# Evaluate the model on the test set\n",
    "test_loss, test_acc = model.evaluate(X_test,y_test)\n",
    "print(f'Test Loss: {test_loss:.4f}')\n",
    "print(f'Test Accuracy: {test_acc:.4f}')"
   ]
  },
  {
   "cell_type": "code",
   "execution_count": 17,
   "id": "151fe164",
   "metadata": {},
   "outputs": [],
   "source": [
    "import numpy as np\n",
    "import matplotlib.pyplot as plt"
   ]
  },
  {
   "cell_type": "code",
   "execution_count": 24,
   "id": "15c0fea5",
   "metadata": {},
   "outputs": [],
   "source": [
    "#Select random images from the test\n",
    "random_indexes = np.random.choice(len(X_test), size = 5, replace=False)\n",
    "images = X_test[random_indexes]\n",
    "true_labels = np.argmax(y_test[random_indexes], axis=1)\n",
    "\n"
   ]
  },
  {
   "cell_type": "code",
   "execution_count": 25,
   "id": "883fa8e3",
   "metadata": {},
   "outputs": [
    {
     "name": "stdout",
     "output_type": "stream",
     "text": [
      "1/1 [==============================] - 0s 71ms/step\n"
     ]
    }
   ],
   "source": [
    "#Make Predictions using the trained model\n",
    "predictions = np.argmax(model.predict(images), axis=1)\n"
   ]
  },
  {
   "cell_type": "code",
   "execution_count": 26,
   "id": "8e485155",
   "metadata": {},
   "outputs": [
    {
     "data": {
      "text/plain": [
       "<function matplotlib.pyplot.show(close=None, block=None)>"
      ]
     },
     "execution_count": 26,
     "metadata": {},
     "output_type": "execute_result"
    },
    {
     "data": {
      "image/png": "[encoded data removed]",
      "text/plain": [
       "<Figure size 1200x400 with 5 Axes>"
      ]
     },
     "metadata": {},
     "output_type": "display_data"
    }
   ],
   "source": [
    "fig, axes = plt.subplots(1,5, figsize=(12,4))\n",
    "for i, (image,true_label,predicted_label) in enumerate(zip(images, true_labels, predictions)):\n",
    "    axes[i].imshow(image.squeeze(), cmap='gray')\n",
    "    axes[i].set_title(f'True: {true_label}, Predicted: {predicted_label}')\n",
    "    axes[i].axis('off')\n",
    "    \n",
    "plt.tight_layout()\n",
    "plt.show"
   ]
  },
  {
   "cell_type": "code",
   "execution_count": null,
   "id": "8cfcb6f8",
   "metadata": {},
   "outputs": [],
   "source": []
  }
 ],
 "metadata": {
  "kernelspec": {
   "display_name": "Python 3 (ipykernel)",
   "language": "python",
   "name": "python3"
  },
  "language_info": {
   "codemirror_mode": {
    "name": "ipython",
    "version": 3
   },
   "file_extension": ".py",
   "mimetype": "text/x-python",
   "name": "python",
   "nbconvert_exporter": "python",
   "pygments_lexer": "ipython3",
   "version": "3.10.10"
  }
 },
 "nbformat": 4,
 "nbformat_minor": 5
}
